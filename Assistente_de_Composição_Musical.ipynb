{
  "nbformat": 4,
  "nbformat_minor": 0,
  "metadata": {
    "colab": {
      "provenance": [],
      "include_colab_link": true
    },
    "kernelspec": {
      "name": "python3",
      "display_name": "Python 3"
    },
    "language_info": {
      "name": "python"
    }
  },
  "cells": [
    {
      "cell_type": "markdown",
      "metadata": {
        "id": "view-in-github",
        "colab_type": "text"
      },
      "source": [
        "<a href=\"https://colab.research.google.com/github/reteles/Imersao-IA-Alura-Google-2ed/blob/main/Assistente_de_Composi%C3%A7%C3%A3o_Musical.ipynb\" target=\"_parent\"><img src=\"https://colab.research.google.com/assets/colab-badge.svg\" alt=\"Open In Colab\"/></a>"
      ]
    },
    {
      "cell_type": "code",
      "execution_count": 4,
      "metadata": {
        "id": "Oqg5JEv-Qupv"
      },
      "outputs": [],
      "source": [
        "#INSTALA O SDK\n",
        "!pip install -q -U google-generativeai\n",
        "\n",
        "\n",
        "#IMPORTA BIBLIOTECA DO MODELO GENERATIVO\n",
        "import google.generativeai as genai\n",
        "\n",
        "\n",
        "# GUARDA E CONFIGURA A API KEY COM SEGURANÇA\n",
        "from google.colab import userdata\n",
        "api_key = userdata.get('SECRET_KEY')\n",
        "genai.configure(api_key=api_key)\n",
        "\n",
        "\n",
        "#CONFIGURA PARÂMETROS\n",
        "generation_config = {\n",
        "    \"candidate_count\" : 1,\n",
        "    \"temperature\" : 0.7,\n",
        "    \"top_k\" : 40,\n",
        "    \"top_p\" : 0.95,\n",
        "}\n",
        "\n",
        "\n",
        "#CONFIGURA MODELO E APONTA PARA AS CONFIGS DE GERAÇÃO E SEGURANÇA\n",
        "model = genai.GenerativeModel(model_name=\"gemini-1.0-pro\")\n",
        "generation_config=generation_config\n",
        "\n",
        "\n",
        "#CRIA O HISTÓRICO DO CHATBOT\n",
        "chat = model.start_chat(history=[])"
      ]
    },
    {
      "cell_type": "markdown",
      "source": [
        "# Bem vindo(a) ao assistente para composições musicais!\n",
        "\n",
        "Selecione algumas características para que o assistente possa ajustar a composição e, desta forma, criar sequências aleatórias de acordes para sua música.\n",
        "\n",
        "**Você pode selecionar os parâmetros pré-definidos ou digitar de acordo com suas preferências!**\n",
        "\n",
        "\n",
        "\n",
        "\n",
        "> *Este assistente é bastante simples e foi pensado apenas para criar algumas sugestões. Todo o restante, como alterações da sequência e quantidade de acordes sugeridas, o arranjo, os ajustes rítmicos e outros refinamentos devem ser elaborados por você. Afinal, pode servir bem como um ponto de partida, mas o verdadeiro compositor é você! Boa sorte!*\n",
        "\n",
        "-> clique na seta (hide code) na aba Parâmetros para visualizar o formulário\n"
      ],
      "metadata": {
        "id": "CUlKR4VQXvzV"
      }
    },
    {
      "cell_type": "code",
      "source": [
        "#MELHORA A VISUALIZAÇÃO DO TEXTO\n",
        "import textwrap\n",
        "from IPython.display import display\n",
        "from IPython.display import Markdown\n",
        "\n",
        "#CRIA O FORM\n",
        "# @title Parametros { form-width: \"400px\", display-mode: \"code\" }\n",
        "Estilo = 'Rock' # @param [\"Blues\", \"Bossa Nova\", \"Clássico\", \"Country\", \"Flamenco\", \"Jazz\", \"MPB\", \"RnB\", \"Rock\", \"Pop\", \"Punk Rock\", \"Samba\"] {allow-input: true}\n",
        "Tonalidade = 'D' # @param [\"A\", \"B\", \"C\", \"D\", \"E\", \"F\", \"G\"] {allow-input: true}\n",
        "Modo = 'Pentatônico' # @param [\"Maior\", \"Menor\", \"Pentatônico\", \"Jônico\", \"Dórico\", \"Frígio\", \"Lídio\", \"Mixolídio\", \"Eólico\", \"Lócrio\"] {allow-input: true}\n",
        "QtdMinima = \"3\" # @param {type:\"string\"}\n",
        "QtdMaxima = \"9\" # @param {type:\"string\"}\n",
        "\n",
        "#CRIA O PROMPT\n",
        "prompt = \"Crie uma sequência de acordes que compõem o modo \",Modo,\", com base na tonalidade de \",Tonalidade,\" e direcionada para o gênero musical \",Estilo,\". Gere tal sequência com uma quantidade de acordes que varie entre \",QtdMinima,\" e \",QtdMaxima,\", escolhendo tal quantidade de forma aleatória e embaralhando a sequência de tais acordes também de forma aleatória.\"\n",
        "response = chat.send_message(prompt)\n",
        "print(\"\\n\\033[1mSUGESTÃO:\\033[1m\\n\")\n",
        "display(Markdown(f'{response.text}'))\n",
        "print(\"\\n\")"
      ],
      "metadata": {
        "colab": {
          "base_uri": "https://localhost:8080/",
          "height": 323
        },
        "id": "FIiJsop0TUMs",
        "outputId": "606bced6-364a-4692-efe4-975020913836"
      },
      "execution_count": 6,
      "outputs": [
        {
          "output_type": "stream",
          "name": "stdout",
          "text": [
            "\n",
            "\u001b[1mSUGESTÃO:\u001b[1m\n",
            "\n"
          ]
        },
        {
          "output_type": "display_data",
          "data": {
            "text/plain": [
              "<IPython.core.display.Markdown object>"
            ],
            "text/markdown": "**Quantidade Aleatória de Acordes:** 7\n\n**Escala Pentatônica de D:** D, E, F#, A, B\n\n**Sequência de Acordes Embaralhada:**\n\n1. D5\n2. A5\n3. B5\n4. E5\n5. F#5\n6. D5/F#\n7. A5/C#"
          },
          "metadata": {}
        },
        {
          "output_type": "stream",
          "name": "stdout",
          "text": [
            "\n",
            "\n"
          ]
        }
      ]
    },
    {
      "cell_type": "code",
      "source": [
        "#IMPRIME O HISTÓRICO DE SUGESTÕES\n",
        "for message in chat.history:\n",
        "  display(Markdown(f'**{message.role}**: {message.parts[0].text}'))\n",
        "  print('-------------------------------------------')\n"
      ],
      "metadata": {
        "id": "MoEWUHk_nS0Z"
      },
      "execution_count": null,
      "outputs": []
    }
  ]
}